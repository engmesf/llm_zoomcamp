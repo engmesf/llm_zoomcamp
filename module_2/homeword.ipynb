{
 "cells": [
  {
   "cell_type": "markdown",
   "metadata": {},
   "source": [
    "## Homework Solutions from Module 2!"
   ]
  },
  {
   "cell_type": "markdown",
   "metadata": {},
   "source": [
    "### Q1. Running Ollama with Docker\n",
    "\n",
    " - Let's run ollama with Docker. We will need to execute the same command as in the lectures:\n",
    "```\n",
    "docker run -it \\\n",
    "    --rm \\\n",
    "    -v ollama:/root/.ollama \\\n",
    "    -p 11434:11434 \\\n",
    "    --name ollama \\\n",
    "    ollama/ollama\n",
    "```\n",
    " - What's the version of ollama client?`"
   ]
  },
  {
   "cell_type": "code",
   "execution_count": null,
   "metadata": {},
   "outputs": [],
   "source": [
    "# The command to answer this questions is: ollama -version.\n",
    "# This answer is: ollama version is 0.1.48"
   ]
  },
  {
   "cell_type": "markdown",
   "metadata": {},
   "source": [
    "### Q2. Downloading an LLM\n",
    "\n",
    "- We will donwload a smaller LLM - gemma:2b.\n",
    "\n",
    "- Again let's enter the container and pull the model:\n",
    "\n",
    "```\n",
    "ollama pull gemma:2b\n",
    "```\n",
    "\n",
    "- In docker, it saved the results into /root/.ollama\n",
    "\n",
    "- We're interested in the metadata about this model. You can find it in models/manifests/registry.ollama.ai/library\n",
    "\n",
    "- What's the content of the file related to gemma?"
   ]
  },
  {
   "cell_type": "code",
   "execution_count": null,
   "metadata": {},
   "outputs": [],
   "source": [
    "# In directory: .ollama/models/manifests/registry.ollama.ai/library#\n",
    "# I put cd gemma and i use the command ls, the returns is: \"2b\"\n",
    "# The content in 2b file is: \n",
    "\"\"\"\n",
    "{\"schemaVersion\":2,\"mediaType\":\"application/vnd.docker.distribution.manifest.v2+json\",\n",
    "\"config\":{\"mediaType\":\"application/vnd.docker.container.image.v1+json\",\n",
    "\"digest\":\"sha256:887433b89a901c156f7e6944442f3c9e57f3c55d6ed52042cbb7303aea994290\",\"size\":483},\n",
    "\"layers\":[{\"mediaType\":\"application/vnd.ollama.image.model\",\n",
    "\"digest\":\"sha256:c1864a5eb19305c40519da12cc543519e48a0697ecd30e15d5ac228644957d12\",\n",
    "\"size\":1678447520},{\"mediaType\":\"application/vnd.ollama.image.license\",\n",
    "\"digest\":\"sha256:097a36493f718248845233af1d3fefe7a303f864fae13bc31a3a9704229378ca\",\"size\":8433},\n",
    "{\"mediaType\":\"application/vnd.ollama.image.template\",\n",
    "\"digest\":\"sha256:109037bec39c0becc8221222ae23557559bc594290945a2c4221ab4f303b8871\",\"size\":136},\n",
    "{\"mediaType\":\"application/vnd.ollama.image.params\",\n",
    "\"digest\":\"sha256:22a838ceb7fb22755a3b0ae9b4eadde629d19be1f651f73efb8c6b4e2cd0eea0\",\"size\":84}]}\n",
    "\"\"\""
   ]
  },
  {
   "cell_type": "markdown",
   "metadata": {},
   "source": [
    "### Q3. Running the LLM\n",
    "\n",
    "- Test the following prompt: \"10 * 10\". What's the answer?"
   ]
  },
  {
   "cell_type": "code",
   "execution_count": null,
   "metadata": {},
   "outputs": [],
   "source": [
    "# The answer is: \n",
    "# Sure, here is the response to your prompt: 10 * 10 = 100"
   ]
  },
  {
   "cell_type": "markdown",
   "metadata": {},
   "source": [
    "### Q4. Donwloading the weights\n",
    "\n",
    "- We don't want to pull the weights every time we run a docker container. Let's do it once and have them available every time we start a container.\n",
    "\n",
    "- First, we will need to change how we run the container.\n",
    "\n",
    "- Instead of mapping the /root/.ollama folder to a named volume, let's map it to a local directory:\n",
    "\n",
    "```\n",
    "mkdir ollama_files\n",
    "\n",
    "docker run -it \\\n",
    "    --rm \\\n",
    "    -v ./ollama_files:/root/.ollama \\\n",
    "    -p 11434:11434 \\\n",
    "    --name ollama \\\n",
    "    ollama/ollama\n",
    "```\n",
    "\n",
    "Now pull the model:\n",
    "\n",
    "```\n",
    "docker exec -it ollama ollama pull gemma:2b \n",
    "```\n",
    "\n",
    "- What's the size of the ollama_files/models folder?\n",
    "    - 0.6G\n",
    "    - 1.2G\n",
    "    - 1.7G\n",
    "    - 2.2G\n"
   ]
  },
  {
   "cell_type": "code",
   "execution_count": null,
   "metadata": {},
   "outputs": [],
   "source": [
    "# The size is 1.6G -> approach response 1.7G."
   ]
  },
  {
   "cell_type": "markdown",
   "metadata": {},
   "source": [
    "### Q5. Adding the weights\n",
    " - Let's now stop the container and add the weights to a new image\n",
    "\n",
    " - For that, let's create a Dockerfile:\n",
    "\n",
    "```\n",
    "FROM ollama/ollama\n",
    "\n",
    "COPY ...\n",
    "```\n",
    " - What do you put after COPY?"
   ]
  },
  {
   "cell_type": "code",
   "execution_count": null,
   "metadata": {},
   "outputs": [],
   "source": [
    "# The answer is: COPY ./ollama_files/models /root/.ollama/models"
   ]
  },
  {
   "cell_type": "markdown",
   "metadata": {},
   "source": [
    "### Q6. Serving it\n",
    "\n",
    " - Let's build it:\n",
    "```\n",
    "docker build -t ollama-gemma2b .\n",
    "```\n",
    " \n",
    " - And run it:\n",
    "```\n",
    "docker run -it --rm -p 11434:11434 ollama-gemma2b\n",
    "```\n",
    "\n",
    " - We can connect to it using the OpenAI client\n",
    "\n",
    " - Let's test it with the following prompt:\n",
    "```\n",
    "prompt = \"What's the formula for energy?\"\n",
    "```\n",
    "\n",
    " - Also, to make results reproducible, set the temperature parameter to 0:\n",
    "```\n",
    "response = client.chat.completions.create(\n",
    "    #...\n",
    "    temperature=0.0\n",
    ")\n",
    "```\n",
    " - How many completion tokens did you get in response?\n",
    "    - 304\n",
    "    - 604\n",
    "    - 904\n",
    "    - 1204"
   ]
  },
  {
   "cell_type": "code",
   "execution_count": 1,
   "metadata": {},
   "outputs": [],
   "source": [
    "from openai import OpenAI "
   ]
  },
  {
   "cell_type": "code",
   "execution_count": 4,
   "metadata": {},
   "outputs": [],
   "source": [
    "client = OpenAI(\n",
    "    base_url = \"http://localhost:11434/v1/\",\n",
    "    api_key=\"ollama\",\n",
    ")\n",
    "\n",
    "prompt = \"What's the formula for energy?\"\n",
    "\n",
    "response = client.chat.completions.create(\n",
    "    model=\"gemma:2b\",\n",
    "    temperature=0.0,\n",
    "    messages=[{\"role\":\"user\", \"content\":prompt}]\n",
    ")"
   ]
  },
  {
   "cell_type": "code",
   "execution_count": 5,
   "metadata": {},
   "outputs": [],
   "source": [
    "result = response.choices[0].message.content"
   ]
  },
  {
   "cell_type": "code",
   "execution_count": 7,
   "metadata": {},
   "outputs": [
    {
     "name": "stdout",
     "output_type": "stream",
     "text": [
      "Sure, here's the formula for energy:\n",
      "\n",
      "**E = K + U**\n",
      "\n",
      "Where:\n",
      "\n",
      "* **E** is the energy in joules (J)\n",
      "* **K** is the kinetic energy in joules (J)\n",
      "* **U** is the potential energy in joules (J)\n",
      "\n",
      "**Kinetic energy (K)** is the energy an object possesses when it moves or is in motion. It is calculated as half the product of an object's mass (m) and its velocity (v) squared:\n",
      "\n",
      "**K = 1/2mv^2**\n",
      "\n",
      "**Potential energy (U)** is the energy an object possesses due to its position or configuration. It is calculated as the product of an object's mass, gravitational constant (g), and height or position above a reference point.\n",
      "\n",
      "**U = mgh**\n",
      "\n",
      "Where:\n",
      "\n",
      "* **m** is the mass in kilograms (kg)\n",
      "* **g** is the gravitational constant (9.8 m/s^2)\n",
      "* **h** is the height or position in meters (m)\n",
      "\n",
      "The formula shows that energy can be expressed as the sum of kinetic and potential energy. The kinetic energy is a measure of the object's ability to do work, while the potential energy is a measure of the object's ability to do work against a force.\n"
     ]
    }
   ],
   "source": [
    "print(result)"
   ]
  },
  {
   "cell_type": "code",
   "execution_count": 10,
   "metadata": {},
   "outputs": [
    {
     "data": {
      "text/plain": [
       "315"
      ]
     },
     "execution_count": 10,
     "metadata": {},
     "output_type": "execute_result"
    }
   ],
   "source": [
    "response.usage.total_tokens"
   ]
  },
  {
   "cell_type": "code",
   "execution_count": null,
   "metadata": {},
   "outputs": [],
   "source": [
    "# The answer is: 315 tokens -> approach response 304 tokens. "
   ]
  }
 ],
 "metadata": {
  "kernelspec": {
   "display_name": "Python 3",
   "language": "python",
   "name": "python3"
  },
  "language_info": {
   "codemirror_mode": {
    "name": "ipython",
    "version": 3
   },
   "file_extension": ".py",
   "mimetype": "text/x-python",
   "name": "python",
   "nbconvert_exporter": "python",
   "pygments_lexer": "ipython3",
   "version": "3.12.3"
  }
 },
 "nbformat": 4,
 "nbformat_minor": 2
}
